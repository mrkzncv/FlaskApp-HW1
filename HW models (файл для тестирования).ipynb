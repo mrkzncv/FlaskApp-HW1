{
 "cells": [
  {
   "cell_type": "markdown",
   "metadata": {},
   "source": [
    "## Библиотеки"
   ]
  },
  {
   "cell_type": "code",
   "execution_count": 82,
   "metadata": {},
   "outputs": [],
   "source": [
    "import numpy as np\n",
    "import pandas as pd\n",
    "import requests\n",
    "\n",
    "from sklearn.ensemble import RandomForestClassifier, RandomForestRegressor\n",
    "#from sklearn.linear_model import SGDClassifier\n",
    "from sklearn.svm import SVR, SVC\n",
    "from sklearn.model_selection import GridSearchCV"
   ]
  },
  {
   "cell_type": "code",
   "execution_count": 6,
   "metadata": {},
   "outputs": [],
   "source": [
    "from sklearn.datasets import make_classification, make_regression"
   ]
  },
  {
   "cell_type": "markdown",
   "metadata": {},
   "source": [
    "## Данные"
   ]
  },
  {
   "cell_type": "code",
   "execution_count": 8,
   "metadata": {},
   "outputs": [],
   "source": [
    "X, y = make_classification(n_samples=1000, n_features=4,\n",
    "                           n_informative=2, n_redundant=0,\n",
    "                            random_state=0, shuffle=True)"
   ]
  },
  {
   "cell_type": "code",
   "execution_count": 9,
   "metadata": {},
   "outputs": [],
   "source": [
    "Z, r = make_regression(n_samples=1000, n_features=10,\n",
    "                           n_informative=4, random_state=0, shuffle=True)"
   ]
  },
  {
   "cell_type": "markdown",
   "metadata": {},
   "source": [
    "- Дефолтные параметры\n",
    "- Подбор параметров\n",
    "- Предсказание"
   ]
  },
  {
   "cell_type": "markdown",
   "metadata": {},
   "source": [
    "## Запросы к приложению"
   ]
  },
  {
   "cell_type": "markdown",
   "metadata": {},
   "source": []
  },
  {
   "cell_type": "code",
   "execution_count": 456,
   "metadata": {},
   "outputs": [
    {
     "data": {
      "text/plain": [
       "<Response [200]>"
      ]
     },
     "execution_count": 456,
     "metadata": {},
     "output_type": "execute_result"
    }
   ],
   "source": [
    "r_n = requests.get('http://192.168.1.12:5000/api/ml_models')\n",
    "r_n"
   ]
  },
  {
   "cell_type": "code",
   "execution_count": 394,
   "metadata": {},
   "outputs": [],
   "source": [
    "#currp = r_n.json()"
   ]
  },
  {
   "cell_type": "code",
   "execution_count": 411,
   "metadata": {},
   "outputs": [],
   "source": [
    "#currp2 = r_n.json()"
   ]
  },
  {
   "cell_type": "code",
   "execution_count": 416,
   "metadata": {},
   "outputs": [
    {
     "data": {
      "text/plain": [
       "(True, False)"
      ]
     },
     "execution_count": 416,
     "metadata": {},
     "output_type": "execute_result"
    }
   ],
   "source": [
    "currp == currp, currp == currp2"
   ]
  },
  {
   "cell_type": "code",
   "execution_count": 459,
   "metadata": {},
   "outputs": [
    {
     "data": {
      "text/plain": [
       "{'classification': ['Random Forest', 'SVM'],\n",
       " 'regression': ['Random Forest', 'SVM']}"
      ]
     },
     "execution_count": 459,
     "metadata": {},
     "output_type": "execute_result"
    }
   ],
   "source": [
    "r_n.json()[0]"
   ]
  },
  {
   "cell_type": "code",
   "execution_count": 460,
   "metadata": {
    "scrolled": true
   },
   "outputs": [
    {
     "data": {
      "text/plain": [
       "(['models static/classification_SVM_1.pickle',\n",
       "  'models static/classification_Random Forest_2.pickle'],\n",
       " [1, 2])"
      ]
     },
     "execution_count": 460,
     "metadata": {},
     "output_type": "execute_result"
    }
   ],
   "source": [
    "[s['model_path'] for s in r_n.json()[1]], [s['id'] for s in r_n.json()[1]]"
   ]
  },
  {
   "cell_type": "code",
   "execution_count": 454,
   "metadata": {},
   "outputs": [],
   "source": [
    "data={'problem': 'classification', 'name': 'Random Forest', 'h_tune': False, 'X':X.tolist(), 'y':y.tolist()}"
   ]
  },
  {
   "cell_type": "code",
   "execution_count": null,
   "metadata": {},
   "outputs": [],
   "source": [
    "requests.post('http://192.168.1.12:5000/api/ml_models', json=data)"
   ]
  },
  {
   "cell_type": "code",
   "execution_count": 452,
   "metadata": {},
   "outputs": [],
   "source": [
    "data={'problem': 'classification', 'name': 'SVM', 'h_tune': False, 'X':X.tolist(), 'y':y.tolist()}"
   ]
  },
  {
   "cell_type": "code",
   "execution_count": 455,
   "metadata": {
    "scrolled": true
   },
   "outputs": [
    {
     "data": {
      "text/plain": [
       "<Response [200]>"
      ]
     },
     "execution_count": 455,
     "metadata": {},
     "output_type": "execute_result"
    }
   ],
   "source": [
    "requests.post('http://192.168.1.12:5000/api/ml_models', json=data)"
   ]
  },
  {
   "cell_type": "code",
   "execution_count": 383,
   "metadata": {},
   "outputs": [
    {
     "data": {
      "text/plain": [
       "<Response [204]>"
      ]
     },
     "execution_count": 383,
     "metadata": {},
     "output_type": "execute_result"
    }
   ],
   "source": [
    "requests.delete('http://192.168.1.12:5000/api/ml_models/1')"
   ]
  },
  {
   "cell_type": "code",
   "execution_count": 437,
   "metadata": {},
   "outputs": [
    {
     "data": {
      "text/plain": [
       "<Response [200]>"
      ]
     },
     "execution_count": 437,
     "metadata": {},
     "output_type": "execute_result"
    }
   ],
   "source": [
    "requests.put('http://192.168.1.12:5000/api/ml_models/4', \n",
    "             json={'problem': 'classification', 'name': 'Random Forest', 'h_tune': True})"
   ]
  },
  {
   "cell_type": "markdown",
   "metadata": {},
   "source": [
    "## Модели"
   ]
  },
  {
   "cell_type": "code",
   "execution_count": 71,
   "metadata": {},
   "outputs": [],
   "source": [
    "def Classification(model, X, y, htune=False):\n",
    "    \n",
    "    if model == 'Random Forest':\n",
    "        param_grid = {'n_estimators': [50, 100], 'max_depth': [3, 4], 'max_features': ['auto', 'sqrt']}\n",
    "        clf = RandomForestClassifier(random_state=0)\n",
    "    elif model == 'SVM':\n",
    "        param_grid = {'kernel':('linear', 'rbf'), 'C':[1, 10]}\n",
    "        clf = SVC(random_state=0)\n",
    "    \n",
    "    if htune:\n",
    "        clf_CV = GridSearchCV(estimator=clf, param_grid=param_grid, cv= 5)\n",
    "        clf_CV.fit(X, y)\n",
    "        #best_params = clf.best_params_\n",
    "        best_model = clf_CV.best_estimator_\n",
    "        prediction = best_model.predict(X)\n",
    "        \n",
    "    else:\n",
    "        clf.fit(X, y)\n",
    "        prediction = clf.predict(X)\n",
    "        #best_params = clf.get_params()\n",
    "    \n",
    "    return prediction #best_params"
   ]
  },
  {
   "cell_type": "code",
   "execution_count": 74,
   "metadata": {},
   "outputs": [
    {
     "name": "stdout",
     "output_type": "stream",
     "text": [
      "CPU times: user 35.5 ms, sys: 2.12 ms, total: 37.6 ms\n",
      "Wall time: 35.2 ms\n"
     ]
    },
    {
     "data": {
      "text/plain": [
       "array([1, 0, 0, 1, 1, 1, 0, 1, 0, 1])"
      ]
     },
     "execution_count": 74,
     "metadata": {},
     "output_type": "execute_result"
    }
   ],
   "source": [
    "%%time\n",
    "prediction = Classification('SVM', X, y, False)\n",
    "prediction[:10]"
   ]
  },
  {
   "cell_type": "code",
   "execution_count": 79,
   "metadata": {},
   "outputs": [],
   "source": [
    "def Regression(model, X, y, htune=False):\n",
    "    \n",
    "    if model == 'Random Forest':\n",
    "        param_grid = {'n_estimators': [50, 100], 'max_depth': [3, 4], 'max_features': ['auto', 'sqrt']}\n",
    "        lr = RandomForestRegressor(random_state=0)\n",
    "    elif model == 'SVM':\n",
    "        param_grid = {'kernel':('linear', 'rbf'), 'C':[1, 10]}\n",
    "        lr = SVR()\n",
    "    \n",
    "    if htune:\n",
    "        lr_CV = GridSearchCV(estimator=lr, param_grid=param_grid, cv= 5)\n",
    "        lr_CV.fit(X, y)\n",
    "        #best_params = clf.best_params_\n",
    "        best_model = lr_CV.best_estimator_\n",
    "        prediction = best_model.predict(X)\n",
    "        \n",
    "    else:\n",
    "        lr.fit(X, y)\n",
    "        prediction = lr.predict(X)\n",
    "        #best_params = clf.get_params()\n",
    "    \n",
    "    return prediction #best_params"
   ]
  },
  {
   "cell_type": "code",
   "execution_count": 81,
   "metadata": {},
   "outputs": [
    {
     "name": "stdout",
     "output_type": "stream",
     "text": [
      "CPU times: user 446 ms, sys: 8.24 ms, total: 454 ms\n",
      "Wall time: 454 ms\n"
     ]
    },
    {
     "data": {
      "text/plain": [
       "array([  42.71988408,  -42.73897822,   26.25876795,   48.71589377,\n",
       "         -4.2270664 ,  -80.92470981,   56.38980455,   46.08721386,\n",
       "       -140.80379108,   33.87466928])"
      ]
     },
     "execution_count": 81,
     "metadata": {},
     "output_type": "execute_result"
    }
   ],
   "source": [
    "%%time\n",
    "prediction = Regression('Random Forest', Z, r, False)\n",
    "prediction[:10]"
   ]
  },
  {
   "cell_type": "markdown",
   "metadata": {},
   "source": [
    "#### Random Forest"
   ]
  },
  {
   "cell_type": "markdown",
   "metadata": {},
   "source": [
    "classification"
   ]
  },
  {
   "cell_type": "code",
   "execution_count": 24,
   "metadata": {},
   "outputs": [],
   "source": [
    "#Random forest GreesSearchCV\n",
    "rf_param_grid = {'n_estimators': [50, 100],\n",
    "                 'max_depth': [3, 4],\n",
    "                 'max_features': ['auto', 'sqrt']\n",
    "                }"
   ]
  },
  {
   "cell_type": "code",
   "execution_count": 25,
   "metadata": {},
   "outputs": [
    {
     "name": "stdout",
     "output_type": "stream",
     "text": [
      "CPU times: user 4.55 s, sys: 88.6 ms, total: 4.64 s\n",
      "Wall time: 4.69 s\n"
     ]
    }
   ],
   "source": [
    "%%time\n",
    "clf = RandomForestClassifier(random_state=0)\n",
    "CV_clf = GridSearchCV(estimator=clf, param_grid=rf_param_grid, cv= 5)\n",
    "CV_clf.fit(X, y)\n",
    "best_params = CV_clf.best_params_\n",
    "best_model = CV_clf.best_estimator_\n",
    "prediction = best_model.predict(X)"
   ]
  },
  {
   "cell_type": "markdown",
   "metadata": {},
   "source": [
    "regression"
   ]
  },
  {
   "cell_type": "code",
   "execution_count": 67,
   "metadata": {},
   "outputs": [
    {
     "name": "stdout",
     "output_type": "stream",
     "text": [
      "CPU times: user 4.82 s, sys: 34.9 ms, total: 4.85 s\n",
      "Wall time: 4.85 s\n"
     ]
    }
   ],
   "source": [
    "%%time\n",
    "lr = RandomForestRegressor(random_state=0)\n",
    "CV_lr = GridSearchCV(estimator=lr, param_grid=rf_param_grid, cv= 5)\n",
    "CV_lr.fit(Z, r)\n",
    "best_params = CV_lr.best_params_\n",
    "best_model = CV_lr.best_estimator_\n",
    "prediction = best_model.predict(Z)"
   ]
  },
  {
   "cell_type": "code",
   "execution_count": 68,
   "metadata": {},
   "outputs": [
    {
     "data": {
      "text/plain": [
       "array([  43.28182696,  -72.1776449 ,    7.26750592,   21.38554593,\n",
       "          4.73059485,  -69.06735374,   24.30899387,   39.36748891,\n",
       "       -136.99463175,   19.87488798])"
      ]
     },
     "execution_count": 68,
     "metadata": {},
     "output_type": "execute_result"
    }
   ],
   "source": [
    "prediction[:10]"
   ]
  },
  {
   "cell_type": "markdown",
   "metadata": {},
   "source": [
    "#### SVM"
   ]
  },
  {
   "cell_type": "markdown",
   "metadata": {},
   "source": [
    "classification"
   ]
  },
  {
   "cell_type": "code",
   "execution_count": 26,
   "metadata": {},
   "outputs": [],
   "source": [
    "svm_param_grid = {'kernel':('linear', 'rbf'),\n",
    "                  'C':[1, 10]\n",
    "                 }"
   ]
  },
  {
   "cell_type": "code",
   "execution_count": 66,
   "metadata": {},
   "outputs": [
    {
     "name": "stdout",
     "output_type": "stream",
     "text": [
      "CPU times: user 236 ms, sys: 3.59 ms, total: 239 ms\n",
      "Wall time: 239 ms\n"
     ]
    }
   ],
   "source": [
    "%%time\n",
    "clf = SVC(random_state=0)\n",
    "CV_clf = GridSearchCV(estimator=clf, param_grid=svm_param_grid, cv= 5)\n",
    "CV_clf.fit(X, y)\n",
    "best_params = CV_clf.best_params_\n",
    "best_model = CV_clf.best_estimator_\n",
    "prediction = best_model.predict(X)"
   ]
  },
  {
   "cell_type": "markdown",
   "metadata": {},
   "source": [
    "regression"
   ]
  },
  {
   "cell_type": "code",
   "execution_count": 69,
   "metadata": {
    "scrolled": true
   },
   "outputs": [
    {
     "name": "stdout",
     "output_type": "stream",
     "text": [
      "CPU times: user 755 ms, sys: 5.11 ms, total: 760 ms\n",
      "Wall time: 760 ms\n"
     ]
    }
   ],
   "source": [
    "%%time\n",
    "lr = SVR()\n",
    "CV_lr = GridSearchCV(estimator=lr, param_grid=svm_param_grid, cv= 5)\n",
    "CV_lr.fit(Z, r)\n",
    "best_params = CV_lr.best_params_\n",
    "best_model = CV_lr.best_estimator_\n",
    "prediction = best_model.predict(Z)"
   ]
  },
  {
   "cell_type": "code",
   "execution_count": 70,
   "metadata": {},
   "outputs": [
    {
     "data": {
      "text/plain": [
       "({'C': 10, 'kernel': 'linear'},\n",
       " SVR(C=10, kernel='linear'),\n",
       " array([  55.07942609,  -31.41343535,   37.02373867,   50.39994597,\n",
       "          -6.60878732,  -83.00622185,   63.80482698,   44.09822181,\n",
       "        -141.26588642,   34.70977182]))"
      ]
     },
     "execution_count": 70,
     "metadata": {},
     "output_type": "execute_result"
    }
   ],
   "source": [
    "best_params, best_model, prediction[:10]"
   ]
  }
 ],
 "metadata": {
  "kernelspec": {
   "display_name": "Python 3",
   "language": "python",
   "name": "python3"
  },
  "language_info": {
   "codemirror_mode": {
    "name": "ipython",
    "version": 3
   },
   "file_extension": ".py",
   "mimetype": "text/x-python",
   "name": "python",
   "nbconvert_exporter": "python",
   "pygments_lexer": "ipython3",
   "version": "3.8.3"
  }
 },
 "nbformat": 4,
 "nbformat_minor": 4
}
